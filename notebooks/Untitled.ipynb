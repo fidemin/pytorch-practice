{
 "cells": [
  {
   "cell_type": "code",
   "execution_count": 10,
   "id": "fe2bc2ba-511d-4dfc-8c9b-158e9ebcb807",
   "metadata": {},
   "outputs": [],
   "source": [
    "from torch import tensor\n",
    "import torch"
   ]
  },
  {
   "cell_type": "code",
   "execution_count": 7,
   "id": "b3435e4c-90a6-415d-a003-889f2d583270",
   "metadata": {},
   "outputs": [],
   "source": [
    "t = tensor([0.6, 14.1, 14.9, 28.1, 11.3, 7.8, 3.0, -3.9, 5.8, 13.2, 21.1])\n",
    "x = tensor([35.7, 55.9, 58.3, 82.2, 56.3, 49.0, 33.8, 21.9, 49.0, 61.0, 67.8])"
   ]
  },
  {
   "cell_type": "code",
   "execution_count": 8,
   "id": "779f06a5-e705-4531-aa1c-11a6f79a5938",
   "metadata": {},
   "outputs": [],
   "source": [
    "def linear_model(x, w, b):\n",
    "    return w * x + b"
   ]
  },
  {
   "cell_type": "code",
   "execution_count": 9,
   "id": "930999fd-6f83-4f5f-8ff6-0a08018dd25d",
   "metadata": {},
   "outputs": [],
   "source": [
    "def loss_fn(y, t):\n",
    "    squared = (y - t) ** 2\n",
    "    return squared.sum() / 2.0"
   ]
  },
  {
   "cell_type": "code",
   "execution_count": 12,
   "id": "1943430b-d7fb-4f5c-986f-b9bc74c57a31",
   "metadata": {},
   "outputs": [],
   "source": [
    "w = torch.ones(())\n",
    "b = torch.zeros(())"
   ]
  },
  {
   "cell_type": "code",
   "execution_count": 13,
   "id": "ab7fe89d-5f13-426d-91bd-03f98256232b",
   "metadata": {},
   "outputs": [],
   "source": [
    "y =  linear_model(x, w, b)"
   ]
  },
  {
   "cell_type": "code",
   "execution_count": 14,
   "id": "1bbfa5f5-39a4-407a-865a-0b4e5b7bf981",
   "metadata": {},
   "outputs": [
    {
     "data": {
      "text/plain": [
       "tensor([35.7000, 55.9000, 58.3000, 82.2000, 56.3000, 49.0000, 33.8000, 21.9000,\n",
       "        49.0000, 61.0000, 67.8000])"
      ]
     },
     "execution_count": 14,
     "metadata": {},
     "output_type": "execute_result"
    }
   ],
   "source": [
    "y"
   ]
  },
  {
   "cell_type": "code",
   "execution_count": 15,
   "id": "e4f4541e-a7d4-4034-993e-0a2844888953",
   "metadata": {},
   "outputs": [],
   "source": [
    "loss = loss_fn(y, t)"
   ]
  },
  {
   "cell_type": "code",
   "execution_count": 16,
   "id": "f6a5705c-8c67-4961-84b9-72dfa3cb33f6",
   "metadata": {},
   "outputs": [
    {
     "data": {
      "text/plain": [
       "tensor(9729.1562)"
      ]
     },
     "execution_count": 16,
     "metadata": {},
     "output_type": "execute_result"
    }
   ],
   "source": [
    "loss"
   ]
  },
  {
   "cell_type": "code",
   "execution_count": 23,
   "id": "c744e0a7-041e-4e66-9cc9-dc135148bdbf",
   "metadata": {},
   "outputs": [],
   "source": [
    "def dloss_fn(y, t):\n",
    "    return 2.0 * (y - t) / y.size(0) # divided by batch size"
   ]
  },
  {
   "cell_type": "code",
   "execution_count": 27,
   "id": "19ee9c71-b8d6-4b91-9ae0-d0d476e96075",
   "metadata": {},
   "outputs": [],
   "source": [
    "def dlinear_model(x, w, b, dout):\n",
    "    dw = torch.dot(x, dout) \n",
    "    db = dout.sum(0)\n",
    "    return dw, db"
   ]
  },
  {
   "cell_type": "code",
   "execution_count": 28,
   "id": "f71836f0-9c73-4912-8f66-36e5ead0d944",
   "metadata": {},
   "outputs": [],
   "source": [
    "def grad_fn(x, t, y, w, b):\n",
    "    dloss_dtp = dloss_fn(y, t)\n",
    "    dw, db = dlinear_model(x, w, b, dloss_dtp)\n",
    "    return torch.stack([dw, db])"
   ]
  },
  {
   "cell_type": "code",
   "execution_count": 29,
   "id": "bca39c94-1bc6-4e84-8514-b47b00403710",
   "metadata": {},
   "outputs": [
    {
     "data": {
      "text/plain": [
       "tensor([4531.6636,   82.7091])"
      ]
     },
     "execution_count": 29,
     "metadata": {},
     "output_type": "execute_result"
    }
   ],
   "source": [
    "grad_fn(x, t, y, w, b)"
   ]
  },
  {
   "cell_type": "code",
   "execution_count": 30,
   "id": "6368be9b-9702-44b9-bbf1-8b891bc6b59d",
   "metadata": {},
   "outputs": [],
   "source": [
    "def training(n_epochs, lr, params, x, t):\n",
    "    for epoch in range(1, n_epochs+1):\n",
    "        w, b = params\n",
    "        y = model(x, w, b)\n",
    "        loss = loss_fn(y, t)\n",
    "        grad = grad_fn(x, t, y, w, b)\n",
    "        params = para"
   ]
  },
  {
   "cell_type": "code",
   "execution_count": null,
   "id": "02dc1608-1560-41e3-9e6f-b7938f84b859",
   "metadata": {},
   "outputs": [],
   "source": []
  }
 ],
 "metadata": {
  "kernelspec": {
   "display_name": "Python 3 (ipykernel)",
   "language": "python",
   "name": "python3"
  },
  "language_info": {
   "codemirror_mode": {
    "name": "ipython",
    "version": 3
   },
   "file_extension": ".py",
   "mimetype": "text/x-python",
   "name": "python",
   "nbconvert_exporter": "python",
   "pygments_lexer": "ipython3",
   "version": "3.11.9"
  }
 },
 "nbformat": 4,
 "nbformat_minor": 5
}
