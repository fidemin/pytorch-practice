{
 "cells": [
  {
   "cell_type": "code",
   "execution_count": 1,
   "id": "9d869b52-8c14-4e59-ad46-4575a5091ae5",
   "metadata": {},
   "outputs": [],
   "source": [
    "import torch\n",
    "from torch import tensor"
   ]
  },
  {
   "cell_type": "code",
   "execution_count": 2,
   "id": "3f53cdf0-9c77-4ff4-8def-d00ba3b69936",
   "metadata": {},
   "outputs": [],
   "source": [
    "point = torch.tensor([[[.1, .2, .3, .4], [.5, .6, .7, .8], [.9, 1.0, 1.1, 1.2]], [[1.3, 1.4, 1.5, 1.6], [1.7, 1.8, 1.9, 2.0], [2.1, 2.2, 2.3, 2.5]]])\n",
    "point_t = point.transpose(0, 2)"
   ]
  },
  {
   "cell_type": "code",
   "execution_count": 3,
   "id": "a39b87b2-9a2f-4b47-aee1-48c873fcbaac",
   "metadata": {},
   "outputs": [
    {
     "data": {
      "text/plain": [
       "((12, 4, 1), (1, 4, 12))"
      ]
     },
     "execution_count": 3,
     "metadata": {},
     "output_type": "execute_result"
    }
   ],
   "source": [
    "point.stride(), point_t.stride()"
   ]
  },
  {
   "cell_type": "code",
   "execution_count": 4,
   "id": "5c0759c6-49b7-49f3-a136-4a2be39b6ca8",
   "metadata": {},
   "outputs": [
    {
     "data": {
      "text/plain": [
       "tensor([[[0.1000, 0.2000, 0.3000, 0.4000],\n",
       "         [0.5000, 0.6000, 0.7000, 0.8000],\n",
       "         [0.9000, 1.0000, 1.1000, 1.2000]],\n",
       "\n",
       "        [[1.3000, 1.4000, 1.5000, 1.6000],\n",
       "         [1.7000, 1.8000, 1.9000, 2.0000],\n",
       "         [2.1000, 2.2000, 2.3000, 2.5000]]])"
      ]
     },
     "execution_count": 4,
     "metadata": {},
     "output_type": "execute_result"
    }
   ],
   "source": [
    "point"
   ]
  },
  {
   "cell_type": "code",
   "execution_count": 5,
   "id": "6fc207d5-4860-4d68-a358-bc347e5295e0",
   "metadata": {},
   "outputs": [
    {
     "data": {
      "text/plain": [
       "True"
      ]
     },
     "execution_count": 5,
     "metadata": {},
     "output_type": "execute_result"
    }
   ],
   "source": [
    "point.is_contiguous()"
   ]
  },
  {
   "cell_type": "code",
   "execution_count": 6,
   "id": "d0bf6b2a-f28a-4746-9ead-4967a7dbab50",
   "metadata": {},
   "outputs": [
    {
     "data": {
      "text/plain": [
       "False"
      ]
     },
     "execution_count": 6,
     "metadata": {},
     "output_type": "execute_result"
    }
   ],
   "source": [
    "point_t.is_contiguous()"
   ]
  },
  {
   "cell_type": "code",
   "execution_count": 7,
   "id": "cc491579-370e-4e37-a11a-da52af35ae6e",
   "metadata": {},
   "outputs": [],
   "source": [
    "point_tc = point_t.contiguous()"
   ]
  },
  {
   "cell_type": "code",
   "execution_count": 8,
   "id": "75b93689-c82e-4c0f-b3ee-4ddece0240e8",
   "metadata": {},
   "outputs": [
    {
     "data": {
      "text/plain": [
       "True"
      ]
     },
     "execution_count": 8,
     "metadata": {},
     "output_type": "execute_result"
    }
   ],
   "source": [
    "point_tc.is_contiguous()"
   ]
  },
  {
   "cell_type": "code",
   "execution_count": 9,
   "id": "8bb839a8-122a-4495-947b-1ac3de31a8ec",
   "metadata": {},
   "outputs": [
    {
     "data": {
      "text/plain": [
       "True"
      ]
     },
     "execution_count": 9,
     "metadata": {},
     "output_type": "execute_result"
    }
   ],
   "source": [
    "point.is_contiguous()"
   ]
  },
  {
   "cell_type": "code",
   "execution_count": 10,
   "id": "b638e703-81f6-43db-9cd0-71c4c31a633e",
   "metadata": {},
   "outputs": [
    {
     "data": {
      "text/plain": [
       "((12, 4, 1), (1, 4, 12), (6, 2, 1))"
      ]
     },
     "execution_count": 10,
     "metadata": {},
     "output_type": "execute_result"
    }
   ],
   "source": [
    "point.stride(), point_t.stride(), point_tc.stride()"
   ]
  },
  {
   "cell_type": "code",
   "execution_count": 11,
   "id": "dc3a72be-e1e0-4c9b-ab5d-aa17e489f479",
   "metadata": {},
   "outputs": [],
   "source": [
    "point[0][0][0] = 10.0\n"
   ]
  },
  {
   "cell_type": "code",
   "execution_count": 12,
   "id": "25e811cc-cb3c-47e4-ac18-a606cf6e5390",
   "metadata": {},
   "outputs": [
    {
     "data": {
      "text/plain": [
       "(tensor(10.), tensor(10.), tensor(0.1000))"
      ]
     },
     "execution_count": 12,
     "metadata": {},
     "output_type": "execute_result"
    }
   ],
   "source": [
    "point[0][0][0], point_t[0][0][0], point_tc[0][0][0]  # point_tc not changed -> memory values are copied to another memory"
   ]
  },
  {
   "cell_type": "code",
   "execution_count": 13,
   "id": "0e61f81b-cb31-4f74-b747-ce41aefcbd13",
   "metadata": {},
   "outputs": [
    {
     "data": {
      "text/plain": [
       "False"
      ]
     },
     "execution_count": 13,
     "metadata": {},
     "output_type": "execute_result"
    }
   ],
   "source": [
    "id(point.untyped_storage()) == id(point_tc.untyped_storage())  # do not use storage. it will be deprecated"
   ]
  },
  {
   "cell_type": "code",
   "execution_count": 14,
   "id": "f00440b8-a4dd-49b5-8b6f-fd21a2bf4b55",
   "metadata": {},
   "outputs": [
    {
     "data": {
      "text/plain": [
       "True"
      ]
     },
     "execution_count": 14,
     "metadata": {},
     "output_type": "execute_result"
    }
   ],
   "source": [
    "id(point.untyped_storage()) == id(point_t.untyped_storage())"
   ]
  },
  {
   "cell_type": "code",
   "execution_count": 15,
   "id": "f8e5f70c-6a4a-4027-aa9c-39207eec67e9",
   "metadata": {},
   "outputs": [
    {
     "name": "stdout",
     "output_type": "stream",
     "text": [
      "device: mps\n"
     ]
    }
   ],
   "source": [
    "if torch.backends.mps.is_available():\n",
    "    device = torch.device(\"mps\")\n",
    "else:\n",
    "    device = torch.device(\"cpu\")\n",
    "print(\"device:\", device)\n",
    "point_gpu = torch.tensor([[1.0, 2.0], [3.0, 4.0]], device=device)"
   ]
  },
  {
   "cell_type": "code",
   "execution_count": 16,
   "id": "633d69a8-e48f-4e64-9ea9-bfc4e72de5f4",
   "metadata": {},
   "outputs": [],
   "source": [
    "point_gpu = 2 * point_gpu"
   ]
  },
  {
   "cell_type": "code",
   "execution_count": 17,
   "id": "ea9bd6f9-49f8-40e3-9ff6-629ac5987b3c",
   "metadata": {},
   "outputs": [
    {
     "data": {
      "text/plain": [
       "tensor([[2., 4.],\n",
       "        [6., 8.]], device='mps:0')"
      ]
     },
     "execution_count": 17,
     "metadata": {},
     "output_type": "execute_result"
    }
   ],
   "source": [
    "point_gpu"
   ]
  },
  {
   "cell_type": "code",
   "execution_count": 18,
   "id": "31737e57-05ba-484f-b283-31252871010b",
   "metadata": {},
   "outputs": [],
   "source": [
    "point_cpu = point_gpu.to(device='cpu')"
   ]
  },
  {
   "cell_type": "code",
   "execution_count": 19,
   "id": "e6480355-5af2-4828-98a7-0fbf5ccd6e4b",
   "metadata": {},
   "outputs": [
    {
     "data": {
      "text/plain": [
       "tensor([[2., 4.],\n",
       "        [6., 8.]])"
      ]
     },
     "execution_count": 19,
     "metadata": {},
     "output_type": "execute_result"
    }
   ],
   "source": [
    "point_cpu"
   ]
  },
  {
   "cell_type": "code",
   "execution_count": 20,
   "id": "feeb11ab-ef53-46f5-a1ac-9c0ad9d6d923",
   "metadata": {},
   "outputs": [],
   "source": [
    "import h5py"
   ]
  },
  {
   "cell_type": "code",
   "execution_count": 32,
   "id": "567a9286-9536-4b92-9590-af65d53a2801",
   "metadata": {},
   "outputs": [],
   "source": [
    "with h5py.File('../resources/point.hdf5', 'w') as f:\n",
    "    dset = f.create_dataset('point', data=point.numpy())"
   ]
  },
  {
   "cell_type": "code",
   "execution_count": 34,
   "id": "636e8d7f-2d47-470f-bee3-18beac3fafa0",
   "metadata": {},
   "outputs": [
    {
     "name": "stdout",
     "output_type": "stream",
     "text": [
      "[[[10.   0.2  0.3  0.4]\n",
      "  [ 0.5  0.6  0.7  0.8]\n",
      "  [ 0.9  1.   1.1  1.2]]\n",
      "\n",
      " [[ 1.3  1.4  1.5  1.6]\n",
      "  [ 1.7  1.8  1.9  2. ]\n",
      "  [ 2.1  2.2  2.3  2.5]]]\n"
     ]
    }
   ],
   "source": [
    "with h5py.File('../resources/point.hdf5', 'r') as f:\n",
    "    dset = f['point']\n",
    "    print(dset[:])\n",
    "    loaded_point = torch.from_numpy(dset[:])"
   ]
  },
  {
   "cell_type": "code",
   "execution_count": 35,
   "id": "1a18bbd9-f08e-4473-b8e4-8659fa79289b",
   "metadata": {},
   "outputs": [
    {
     "data": {
      "text/plain": [
       "tensor([[[10.0000,  0.2000,  0.3000,  0.4000],\n",
       "         [ 0.5000,  0.6000,  0.7000,  0.8000],\n",
       "         [ 0.9000,  1.0000,  1.1000,  1.2000]],\n",
       "\n",
       "        [[ 1.3000,  1.4000,  1.5000,  1.6000],\n",
       "         [ 1.7000,  1.8000,  1.9000,  2.0000],\n",
       "         [ 2.1000,  2.2000,  2.3000,  2.5000]]])"
      ]
     },
     "execution_count": 35,
     "metadata": {},
     "output_type": "execute_result"
    }
   ],
   "source": [
    "loaded_point"
   ]
  },
  {
   "cell_type": "code",
   "execution_count": null,
   "id": "d243ad2d-f2ac-4152-83ef-e09bbc3fe5c2",
   "metadata": {},
   "outputs": [],
   "source": []
  }
 ],
 "metadata": {
  "kernelspec": {
   "display_name": "Python 3 (ipykernel)",
   "language": "python",
   "name": "python3"
  },
  "language_info": {
   "codemirror_mode": {
    "name": "ipython",
    "version": 3
   },
   "file_extension": ".py",
   "mimetype": "text/x-python",
   "name": "python",
   "nbconvert_exporter": "python",
   "pygments_lexer": "ipython3",
   "version": "3.11.9"
  }
 },
 "nbformat": 4,
 "nbformat_minor": 5
}
